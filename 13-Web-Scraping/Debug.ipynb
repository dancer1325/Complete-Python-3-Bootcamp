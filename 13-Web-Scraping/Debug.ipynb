{
 "cells": [
  {
   "cell_type": "code",
   "execution_count": 1,
   "id": "trained-natural",
   "metadata": {},
   "outputs": [],
   "source": [
    "import requests"
   ]
  },
  {
   "cell_type": "code",
   "execution_count": 2,
   "id": "important-windsor",
   "metadata": {},
   "outputs": [],
   "source": [
    "def request_function(url=\"http://www.example.com\"):\n",
    "    response = requests.get(url)\n",
    "    type(response)"
   ]
  },
  {
   "cell_type": "code",
   "execution_count": null,
   "id": "extreme-renewal",
   "metadata": {},
   "outputs": [],
   "source": [
    "request_function()"
   ]
  },
  {
   "cell_type": "code",
   "execution_count": null,
   "id": "accredited-mayor",
   "metadata": {},
   "outputs": [],
   "source": []
  }
 ],
 "metadata": {
  "kernelspec": {
   "display_name": "Python 3.8 (XPython)",
   "language": "python",
   "name": "xpython"
  },
  "language_info": {
   "file_extension": ".py",
   "mimetype": "text/x-python",
   "name": "python",
   "version": "3.8.8"
  }
 },
 "nbformat": 4,
 "nbformat_minor": 5
}
