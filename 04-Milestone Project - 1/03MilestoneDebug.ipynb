{
 "cells": [
  {
   "cell_type": "code",
   "execution_count": 1,
   "id": "accessible-labor",
   "metadata": {},
   "outputs": [],
   "source": [
    "def space_check_conversing_position(board, position):\n",
    "    \n",
    "    return board[int(position)] == ' '"
   ]
  },
  {
   "cell_type": "code",
   "execution_count": 2,
   "id": "wooden-training",
   "metadata": {},
   "outputs": [],
   "source": [
    "def player_choice_checking_position_introduced(board):\n",
    "    position = 0\n",
    "    is_int = False\n",
    "    within_internal = False\n",
    "    while not is_int or not within_internal or not space_check(board, position):\n",
    "        position = input('Choose your next position: (1-9) ')\n",
    "        if position.isdigit() == True:\n",
    "            is_int = True\n",
    "        else:\n",
    "            print('You must introduce a int')\n",
    "        if is_int and int(position) in [1,2,3,4,5,6,7,8,9] :\n",
    "            within_internal = True\n",
    "        else:\n",
    "            print('You must introduce a int into the interval 1-9')\n",
    "        \n",
    "    return int(position)"
   ]
  },
  {
   "cell_type": "code",
   "execution_count": 3,
   "id": "configured-swift",
   "metadata": {},
   "outputs": [],
   "source": [
    "test_board = ['#',' ','O','X','O','X','O','X','O','X']"
   ]
  },
  {
   "cell_type": "code",
   "execution_count": 4,
   "id": "molecular-snowboard",
   "metadata": {},
   "outputs": [
    {
     "name": "stdin",
     "output_type": "stream",
     "text": [
      "Choose your next position: (1-9)  a\n"
     ]
    },
    {
     "name": "stdout",
     "output_type": "stream",
     "text": [
      "You must introduce a int\n",
      "You must introduce a int into the interval 1-9\n"
     ]
    },
    {
     "name": "stdin",
     "output_type": "stream",
     "text": [
      "Choose your next position: (1-9)  0\n"
     ]
    },
    {
     "name": "stdout",
     "output_type": "stream",
     "text": [
      "You must introduce a int into the interval 1-9\n"
     ]
    },
    {
     "name": "stdin",
     "output_type": "stream",
     "text": [
      "Choose your next position: (1-9)  1\n"
     ]
    },
    {
     "data": {
      "text/plain": [
       "1"
      ]
     },
     "execution_count": 4,
     "metadata": {},
     "output_type": "execute_result"
    }
   ],
   "source": [
    "player_choice_checking_position_introduced(test_board)"
   ]
  },
  {
   "cell_type": "code",
   "execution_count": null,
   "id": "sufficient-finland",
   "metadata": {},
   "outputs": [],
   "source": []
  }
 ],
 "metadata": {
  "kernelspec": {
   "display_name": "Python 3.8 (XPython)",
   "language": "python",
   "name": "xpython"
  },
  "language_info": {
   "file_extension": ".py",
   "mimetype": "text/x-python",
   "name": "python",
   "version": "3.8.8"
  }
 },
 "nbformat": 4,
 "nbformat_minor": 5
}
