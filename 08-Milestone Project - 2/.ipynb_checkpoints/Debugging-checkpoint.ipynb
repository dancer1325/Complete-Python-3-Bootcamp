{
 "cells": [
  {
   "cell_type": "markdown",
   "id": "gross-pricing",
   "metadata": {
    "tags": []
   },
   "source": [
    "## list.append() vs list.extend()\n"
   ]
  },
  {
   "cell_type": "code",
   "execution_count": null,
   "id": "virgin-ordinance",
   "metadata": {},
   "outputs": [],
   "source": [
    "suits = ('Hearts', 'Diamonds', 'Spades', 'Clubs')\n",
    "ranks = ('Two', 'Three', 'Four', 'Five', 'Six', 'Seven', 'Eight', 'Nine', 'Ten', 'Jack', 'Queen', 'King', 'Ace')"
   ]
  },
  {
   "cell_type": "code",
   "execution_count": 7,
   "id": "architectural-kernel",
   "metadata": {},
   "outputs": [
    {
     "name": "stdout",
     "output_type": "stream",
     "text": [
      "['Hearts', 'Diamonds', 'Spades', 'Clubs', ['Two', 'Three', 'Four', 'Five', 'Six', 'Seven', 'Eight', 'Nine', 'Ten', 'Jack', 'Queen', 'King', 'Ace']]\n",
      "['Two', 'Three', 'Four', 'Five', 'Six', 'Seven', 'Eight', 'Nine', 'Ten', 'Jack', 'Queen', 'King', 'Ace']\n",
      "None\n",
      "------------------------------------\n",
      "['Hearts', 'Diamonds', 'Spades', 'Clubs', ['Two', 'Three', 'Four', 'Five', 'Six', 'Seven', 'Eight', 'Nine', 'Ten', 'Jack', 'Queen', 'King', 'Ace'], 'Two', 'Three', 'Four', 'Five', 'Six', 'Seven', 'Eight', 'Nine', 'Ten', 'Jack', 'Queen', 'King', 'Ace']\n",
      "['Two', 'Three', 'Four', 'Five', 'Six', 'Seven', 'Eight', 'Nine', 'Ten', 'Jack', 'Queen', 'King', 'Ace']\n",
      "None\n"
     ]
    }
   ],
   "source": [
    "# 1. Append. It adds the element indicated in the argument (any kind of type) \n",
    "# at the end of list\n",
    "suits_list = list(suits)\n",
    "ranks_list = list(ranks)\n",
    "suits_append_ranks = suits_list.append(ranks_list)\n",
    "print(suits_list)\n",
    "print(ranks_list)\n",
    "print(suits_append_ranks)\n",
    "print('------------------------------------')\n",
    "# 2. Extend. It iterates the element (not nested objects) indicated in the argument (any kind of type) \n",
    "# and add it at the end of list\n",
    "suits_extend_ranks = suits_list.extend(ranks_list)\n",
    "print(suits_list)\n",
    "print(ranks_list)\n",
    "print(suits_extend_ranks)"
   ]
  },
  {
   "cell_type": "markdown",
   "id": "improved-enemy",
   "metadata": {},
   "source": [
    "## list.pop()"
   ]
  },
  {
   "cell_type": "code",
   "execution_count": 16,
   "id": "spread-brighton",
   "metadata": {},
   "outputs": [
    {
     "name": "stdout",
     "output_type": "stream",
     "text": [
      "52\n"
     ]
    }
   ],
   "source": [
    "list_with_52_elements = []\n",
    "for x in range(52):\n",
    "    list_with_52_elements.append(x)\n",
    "print(len(list_with_52_elements))"
   ]
  },
  {
   "cell_type": "code",
   "execution_count": 17,
   "id": "israeli-wisconsin",
   "metadata": {},
   "outputs": [
    {
     "name": "stdout",
     "output_type": "stream",
     "text": [
      "26 [51, 49, 47, 45, 43, 41, 39, 37, 35, 33, 31, 29, 27, 25, 23, 21, 19, 17, 15, 13, 11, 9, 7, 5, 3, 1]\n",
      "26 [50, 48, 46, 44, 42, 40, 38, 36, 34, 32, 30, 28, 26, 24, 22, 20, 18, 16, 14, 12, 10, 8, 6, 4, 2, 0]\n"
     ]
    }
   ],
   "source": [
    "first_list = []\n",
    "second_list = []\n",
    "# If no index is indicated in pop method --> It's removed the last one\n",
    "for x in range(26): \n",
    "    #Since it's not used the value itself, it's just to indicate the number of iteractions\n",
    "    first_list.append(list_with_52_elements.pop())\n",
    "    second_list.append(list_with_52_elements.pop())\n",
    "print(len(first_list), first_list)\n",
    "print(len(second_list), second_list)"
   ]
  },
  {
   "cell_type": "code",
   "execution_count": null,
   "id": "stupid-settlement",
   "metadata": {},
   "outputs": [],
   "source": []
  }
 ],
 "metadata": {
  "kernelspec": {
   "display_name": "Python 3.8 (XPython)",
   "language": "python",
   "name": "xpython"
  },
  "language_info": {
   "file_extension": ".py",
   "mimetype": "text/x-python",
   "name": "python",
   "version": "3.8.8"
  }
 },
 "nbformat": 4,
 "nbformat_minor": 5
}
