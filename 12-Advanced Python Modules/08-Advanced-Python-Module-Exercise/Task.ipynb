{
 "cells": [
  {
   "cell_type": "code",
   "execution_count": 1,
   "id": "downtown-cologne",
   "metadata": {},
   "outputs": [],
   "source": [
    "# To unzip\n",
    "import shutil"
   ]
  },
  {
   "cell_type": "code",
   "execution_count": 2,
   "id": "convenient-singapore",
   "metadata": {},
   "outputs": [],
   "source": [
    "shutil.unpack_archive('unzip_me_for_instructions.zip', '', 'zip')"
   ]
  },
  {
   "cell_type": "code",
   "execution_count": 3,
   "id": "adverse-original",
   "metadata": {},
   "outputs": [
    {
     "name": "stdout",
     "output_type": "stream",
     "text": [
      "Good work on unzipping the file!\n",
      "You should now see 5 folders, each with a lot of random .txt files.\n",
      "Within one of these text files is a telephone number formated ###-###-#### \n",
      "Use the Python os module and regular expressions to iterate through each file, open it, and search for a telephone number.\n",
      "Good luck!\n"
     ]
    }
   ],
   "source": [
    "with open('extracted_content/Instructions.txt') as f:\n",
    "    content=f.read()\n",
    "    print(content)"
   ]
  },
  {
   "cell_type": "code",
   "execution_count": 4,
   "id": "lesser-envelope",
   "metadata": {},
   "outputs": [],
   "source": [
    "import re"
   ]
  },
  {
   "cell_type": "code",
   "execution_count": 5,
   "id": "behavioral-reputation",
   "metadata": {},
   "outputs": [],
   "source": [
    "pattern = r'\\d{3}-\\d{3}-\\d{4}'"
   ]
  },
  {
   "cell_type": "code",
   "execution_count": 7,
   "id": "pleasant-vector",
   "metadata": {},
   "outputs": [],
   "source": [
    "text_string = 'Here is the phone number 123-123-1234'"
   ]
  },
  {
   "cell_type": "code",
   "execution_count": 8,
   "id": "exciting-rings",
   "metadata": {},
   "outputs": [
    {
     "data": {
      "text/plain": [
       "['123-123-1234']"
      ]
     },
     "execution_count": 8,
     "metadata": {},
     "output_type": "execute_result"
    }
   ],
   "source": [
    "re.findall(pattern, text_string)"
   ]
  },
  {
   "cell_type": "code",
   "execution_count": 9,
   "id": "extreme-therapist",
   "metadata": {},
   "outputs": [],
   "source": [
    "#Function which opens a file, and checks if the pattern matches\n",
    "def search(file, pattern = r'\\d{3}-\\d{3}-\\d{4}'):\n",
    "    f=open(file, 'r')\n",
    "    text=f.read()\n",
    "    if re.search(pattern, text):\n",
    "        return re.search(pattern, text)\n",
    "    else:\n",
    "        return ''"
   ]
  },
  {
   "cell_type": "code",
   "execution_count": 11,
   "id": "naked-subcommittee",
   "metadata": {},
   "outputs": [],
   "source": [
    "import os\n",
    "results = []"
   ]
  },
  {
   "cell_type": "code",
   "execution_count": 12,
   "id": "competitive-bangladesh",
   "metadata": {},
   "outputs": [
    {
     "data": {
      "text/plain": [
       "'C:\\\\Users\\\\atoledanocarrizosa\\\\Documents\\\\Proyectos\\\\Allianz\\\\2021CompletePythonBootcampFromZeroToHeroInPython\\\\Complete-Python-3-Bootcamp\\\\12-Advanced Python Modules\\\\08-Advanced-Python-Module-Exercise\\\\extracted_content'"
      ]
     },
     "execution_count": 12,
     "metadata": {},
     "output_type": "execute_result"
    }
   ],
   "source": [
    "os.getcwd()+'\\\\extracted_content'"
   ]
  },
  {
   "cell_type": "code",
   "execution_count": null,
   "id": "effective-party",
   "metadata": {},
   "outputs": [],
   "source": [
    "#To go through files int a specific route to apply to the function with the regular pattern\n",
    "for folder, sub_folders, files in os.walk(os.getcwd()+'\\\\extracted_content'):\n",
    "    for f in files:\n",
    "        full_path=folder+'\\\\'+f\n",
    "        print(full_path)\n",
    "        results.append(search(full_path()))"
   ]
  },
  {
   "cell_type": "code",
   "execution_count": null,
   "id": "tender-fault",
   "metadata": {},
   "outputs": [],
   "source": [
    "for r in results:\n",
    "    if r!='':\n",
    "        print(r.group())"
   ]
  }
 ],
 "metadata": {
  "kernelspec": {
   "display_name": "Python 3",
   "language": "python",
   "name": "python3"
  },
  "language_info": {
   "codemirror_mode": {
    "name": "ipython",
    "version": 3
   },
   "file_extension": ".py",
   "mimetype": "text/x-python",
   "name": "python",
   "nbconvert_exporter": "python",
   "pygments_lexer": "ipython3",
   "version": "3.8.2"
  }
 },
 "nbformat": 4,
 "nbformat_minor": 5
}
