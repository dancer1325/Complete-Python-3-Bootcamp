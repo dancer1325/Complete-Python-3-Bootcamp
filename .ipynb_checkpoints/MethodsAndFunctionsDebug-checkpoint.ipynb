{
 "cells": [
  {
   "cell_type": "code",
   "execution_count": 10,
   "id": "excited-thinking",
   "metadata": {},
   "outputs": [],
   "source": [
    "# SUMMER OF '69'\n",
    "def summer_69(arr):\n",
    "    total = 0\n",
    "    add = True\n",
    "    for num in arr:\n",
    "        while add:\n",
    "            if num != 6:\n",
    "                total += num\n",
    "                break\n",
    "            else:\n",
    "                add = False\n",
    "        while not add:\n",
    "            if num != 9:\n",
    "                break\n",
    "            else:\n",
    "                add = True\n",
    "                break\n",
    "    return total"
   ]
  },
  {
   "cell_type": "code",
   "execution_count": 11,
   "id": "changing-reception",
   "metadata": {},
   "outputs": [
    {
     "data": {
      "text/plain": [
       "9"
      ]
     },
     "execution_count": 11,
     "metadata": {},
     "output_type": "execute_result"
    }
   ],
   "source": [
    "# Check\n",
    "summer_69([1, 3, 5])"
   ]
  },
  {
   "cell_type": "code",
   "execution_count": 13,
   "id": "rotary-civilian",
   "metadata": {},
   "outputs": [
    {
     "data": {
      "text/plain": [
       "14"
      ]
     },
     "execution_count": 13,
     "metadata": {},
     "output_type": "execute_result"
    }
   ],
   "source": [
    "summer_69([2, 1, 6, 9, 11])"
   ]
  },
  {
   "cell_type": "code",
   "execution_count": null,
   "id": "disabled-julian",
   "metadata": {},
   "outputs": [],
   "source": [
    "# COUNT PRIMES"
   ]
  },
  {
   "cell_type": "code",
   "execution_count": 16,
   "id": "respective-bandwidth",
   "metadata": {},
   "outputs": [],
   "source": [
    "def count_primes(num):\n",
    "    primes = [2]\n",
    "    x = 3\n",
    "    if num < 2:  # for the case of num = 0 or 1\n",
    "        return 0\n",
    "    while x <= num:\n",
    "        for y in range(3,x,2):  # test all odd factors up to x-1. It's indicated step 2, since there is no even number which is prime. In case x<=3 -> It's empty \n",
    "            if x%y == 0:\n",
    "                x += 2\n",
    "                break\n",
    "        else:\n",
    "            primes.append(x)\n",
    "            x += 2\n",
    "    print(primes)\n",
    "    return len(primes)"
   ]
  },
  {
   "cell_type": "code",
   "execution_count": 17,
   "id": "twelve-plane",
   "metadata": {},
   "outputs": [
    {
     "name": "stdout",
     "output_type": "stream",
     "text": [
      "[2]\n"
     ]
    },
    {
     "data": {
      "text/plain": [
       "1"
      ]
     },
     "execution_count": 17,
     "metadata": {},
     "output_type": "execute_result"
    }
   ],
   "source": [
    "count_primes(2)"
   ]
  },
  {
   "cell_type": "code",
   "execution_count": 31,
   "id": "brief-marble",
   "metadata": {},
   "outputs": [
    {
     "data": {
      "text/plain": [
       "range(3, 3, 2)"
      ]
     },
     "execution_count": 31,
     "metadata": {},
     "output_type": "execute_result"
    }
   ],
   "source": [
    "# To check range function\n",
    "rango = range(3,3,2)\n",
    "rango"
   ]
  },
  {
   "cell_type": "code",
   "execution_count": 30,
   "id": "searching-lebanon",
   "metadata": {},
   "outputs": [
    {
     "data": {
      "text/plain": [
       "[]"
      ]
     },
     "execution_count": 30,
     "metadata": {},
     "output_type": "execute_result"
    }
   ],
   "source": [
    "list(rango)"
   ]
  },
  {
   "cell_type": "code",
   "execution_count": 37,
   "id": "contemporary-audit",
   "metadata": {},
   "outputs": [
    {
     "data": {
      "text/plain": [
       "range(3, 5, 2)"
      ]
     },
     "execution_count": 37,
     "metadata": {},
     "output_type": "execute_result"
    }
   ],
   "source": [
    "# The last term is not included into\n",
    "rango_5 = range(3,5,2)\n",
    "rango_5"
   ]
  },
  {
   "cell_type": "code",
   "execution_count": 34,
   "id": "saved-folder",
   "metadata": {},
   "outputs": [
    {
     "data": {
      "text/plain": [
       "[3]"
      ]
     },
     "execution_count": 34,
     "metadata": {},
     "output_type": "execute_result"
    }
   ],
   "source": [
    "list(rango_5)"
   ]
  },
  {
   "cell_type": "code",
   "execution_count": 35,
   "id": "allied-airport",
   "metadata": {},
   "outputs": [
    {
     "data": {
      "text/plain": [
       "range(3, 6, 2)"
      ]
     },
     "execution_count": 35,
     "metadata": {},
     "output_type": "execute_result"
    }
   ],
   "source": [
    "rango_6 = range(3,6,2)\n",
    "rango_6"
   ]
  },
  {
   "cell_type": "code",
   "execution_count": 36,
   "id": "acknowledged-edward",
   "metadata": {},
   "outputs": [
    {
     "data": {
      "text/plain": [
       "[3, 5]"
      ]
     },
     "execution_count": 36,
     "metadata": {},
     "output_type": "execute_result"
    }
   ],
   "source": [
    "list(rango_6)"
   ]
  },
  {
   "cell_type": "code",
   "execution_count": 39,
   "id": "radical-contamination",
   "metadata": {},
   "outputs": [
    {
     "name": "stdout",
     "output_type": "stream",
     "text": [
      "[2, 3, 5, 7, 11, 13, 17, 19, 23, 29]\n"
     ]
    },
    {
     "data": {
      "text/plain": [
       "10"
      ]
     },
     "execution_count": 39,
     "metadata": {},
     "output_type": "execute_result"
    }
   ],
   "source": [
    "count_primes(29)"
   ]
  },
  {
   "cell_type": "code",
   "execution_count": 40,
   "id": "behavioral-recommendation",
   "metadata": {},
   "outputs": [],
   "source": [
    "# To check else meaning\n",
    "def count_primes_without_else(num):\n",
    "    primes = [2]\n",
    "    x = 3\n",
    "    if num < 2:  # for the case of num = 0 or 1\n",
    "        return 0\n",
    "    while x <= num:\n",
    "        for y in range(3,x,2):  # test all odd factors up to x-1. It's indicated step 2, since there is no even number which is prime. In case x<=3 -> It's empty \n",
    "            if x%y == 0:\n",
    "                x += 2\n",
    "                break\n",
    "        primes.append(x)\n",
    "        x += 2\n",
    "    print(primes)\n",
    "    return len(primes)"
   ]
  },
  {
   "cell_type": "code",
   "execution_count": null,
   "id": "initial-video",
   "metadata": {},
   "outputs": [],
   "source": [
    "count_primes_without_else(29)"
   ]
  },
  {
   "cell_type": "code",
   "execution_count": null,
   "id": "public-kentucky",
   "metadata": {},
   "outputs": [],
   "source": []
  }
 ],
 "metadata": {
  "kernelspec": {
   "display_name": "Python 3.8 (XPython)",
   "language": "python",
   "name": "xpython"
  },
  "language_info": {
   "file_extension": ".py",
   "mimetype": "text/x-python",
   "name": "python",
   "version": "3.8.8"
  }
 },
 "nbformat": 4,
 "nbformat_minor": 5
}
